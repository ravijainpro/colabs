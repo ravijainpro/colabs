{
  "nbformat": 4,
  "nbformat_minor": 0,
  "metadata": {
    "colab": {
      "name": "Copy of ram_day1.ipynb",
      "version": "0.3.2",
      "provenance": [],
      "collapsed_sections": [],
      "toc_visible": true,
      "include_colab_link": true
    },
    "kernelspec": {
      "name": "python3",
      "display_name": "Python 3"
    }
  },
  "cells": [
    {
      "cell_type": "markdown",
      "metadata": {
        "id": "view-in-github",
        "colab_type": "text"
      },
      "source": [
        "<a href=\"https://colab.research.google.com/github/ravijainpro/colabs/blob/master/Copy_of_ram_day1.ipynb\" target=\"_parent\"><img src=\"https://colab.research.google.com/assets/colab-badge.svg\" alt=\"Open In Colab\"/></a>"
      ]
    },
    {
      "cell_type": "markdown",
      "metadata": {
        "id": "uw0bdfZnxpD6",
        "colab_type": "text"
      },
      "source": [
        "## Synthetic data sets"
      ]
    },
    {
      "cell_type": "markdown",
      "metadata": {
        "id": "Jx3O-xpWxlDb",
        "colab_type": "text"
      },
      "source": [
        "# Data engineering"
      ]
    },
    {
      "cell_type": "code",
      "metadata": {
        "id": "3msCXOJVxvXT",
        "colab_type": "code",
        "colab": {}
      },
      "source": [
        "# Author: Kalidas Y <ykalidas at iittp dot ac dot in>\n",
        "# License: BSD 3 clause\n",
        "\n",
        "from sklearn.datasets import make_blobs, make_classification, make_gaussian_quantiles\n",
        "from sklearn.datasets import make_circles, make_moons\n",
        "from sklearn.datasets import make_multilabel_classification, make_biclusters, make_checkerboard, make_regression\n",
        "from sklearn.datasets import make_friedman1, make_friedman2, make_friedman3\n",
        "from sklearn.datasets import make_s_curve, make_swiss_roll"
      ],
      "execution_count": 0,
      "outputs": []
    },
    {
      "cell_type": "markdown",
      "metadata": {
        "id": "Y1hVhbtNZ2Wc",
        "colab_type": "text"
      },
      "source": [
        "## Toy data sets"
      ]
    },
    {
      "cell_type": "code",
      "metadata": {
        "id": "J1yYX3--bSi_",
        "colab_type": "code",
        "colab": {}
      },
      "source": [
        "# Author: Kalidas Y <ykalidas at iittp dot ac dot in>\n",
        "# License: BSD 3 clause\n",
        "\n",
        "from sklearn.datasets import load_boston, load_iris, load_diabetes, load_digits, load_linnerud, load_wine, load_breast_cancer\n",
        "\n"
      ],
      "execution_count": 0,
      "outputs": []
    },
    {
      "cell_type": "markdown",
      "metadata": {
        "id": "omxql-jlZ4VB",
        "colab_type": "text"
      },
      "source": [
        "## Real data sets"
      ]
    },
    {
      "cell_type": "code",
      "metadata": {
        "id": "1S69WmhYnPHV",
        "colab_type": "code",
        "colab": {}
      },
      "source": [
        "# Author: Kalidas Y <ykalidas at iittp dot ac dot in>\n",
        "# License: BSD 3 clause\n",
        "\n",
        "from sklearn.datasets import fetch_olivetti_faces, fetch_20newsgroups, fetch_20newsgroups_vectorized, fetch_lfw_people, fetch_covtype, fetch_rcv1, fetch_kddcup99, fetch_california_housing\n"
      ],
      "execution_count": 0,
      "outputs": []
    },
    {
      "cell_type": "markdown",
      "metadata": {
        "id": "H0fgK0lbfIMi",
        "colab_type": "text"
      },
      "source": [
        "## Missing value imputation"
      ]
    },
    {
      "cell_type": "markdown",
      "metadata": {
        "id": "BalWbvaavi6L",
        "colab_type": "text"
      },
      "source": [
        "### set up"
      ]
    },
    {
      "cell_type": "code",
      "metadata": {
        "id": "SYzF4CREtLGw",
        "colab_type": "code",
        "colab": {}
      },
      "source": [
        "# Author: Kalidas Y <ykalidas at iittp dot ac dot in>\n",
        "# License: BSD 3 clause\n",
        "\n",
        "import numpy as np\n",
        "from sklearn.impute import SimpleImputer\n",
        "from sklearn.experimental import enable_iterative_imputer\n",
        "from sklearn.impute import IterativeImputer"
      ],
      "execution_count": 0,
      "outputs": []
    },
    {
      "cell_type": "markdown",
      "metadata": {
        "id": "JeMzbaqavlWR",
        "colab_type": "text"
      },
      "source": [
        "### SimpleImputer"
      ]
    },
    {
      "cell_type": "markdown",
      "metadata": {
        "id": "tDXVy5NJv_Wz",
        "colab_type": "text"
      },
      "source": [
        "#### mean imputation "
      ]
    },
    {
      "cell_type": "code",
      "metadata": {
        "id": "pIkU9BD1vnqS",
        "colab_type": "code",
        "outputId": "a9af41cf-5606-4334-c5f7-fa5376715bb2",
        "colab": {
          "base_uri": "https://localhost:8080/",
          "height": 69
        }
      },
      "source": [
        "# REF - https://scikit-learn.org/stable/modules/impute.html\n",
        "\n",
        "imp = SimpleImputer(missing_values=np.nan, strategy='mean')\n",
        "\n",
        "imp.fit([[1, 2], [np.nan, 3], [7, 6]])  \n",
        "\n",
        "X = [[np.nan, 2], [6, np.nan], [7, 6]]\n",
        "\n",
        "print (imp.transform(X))"
      ],
      "execution_count": 0,
      "outputs": [
        {
          "output_type": "stream",
          "text": [
            "[[4.         2.        ]\n",
            " [6.         3.66666667]\n",
            " [7.         6.        ]]\n"
          ],
          "name": "stdout"
        }
      ]
    },
    {
      "cell_type": "markdown",
      "metadata": {
        "id": "17FAzj0EwB-U",
        "colab_type": "text"
      },
      "source": [
        "#### mode imputation (categorical attr) "
      ]
    },
    {
      "cell_type": "code",
      "metadata": {
        "id": "GJhqSijywRqw",
        "colab_type": "code",
        "outputId": "896e2bd9-debf-4693-9a06-d6cb6b38ddc3",
        "colab": {
          "base_uri": "https://localhost:8080/",
          "height": 86
        }
      },
      "source": [
        "# REF - https://scikit-learn.org/stable/modules/impute.html\n",
        "\n",
        "import pandas as pd\n",
        "df = pd.DataFrame([[\"a\", \"x\"],\n",
        "                   [np.nan, \"y\"],\n",
        "                   [\"a\", np.nan],\n",
        "                   [\"b\", \"y\"]], dtype=\"category\")\n",
        "\n",
        "imp = SimpleImputer(strategy=\"most_frequent\")\n",
        "print(imp.fit_transform(df))      \n"
      ],
      "execution_count": 0,
      "outputs": [
        {
          "output_type": "stream",
          "text": [
            "[['a' 'x']\n",
            " ['a' 'y']\n",
            " ['a' 'y']\n",
            " ['b' 'y']]\n"
          ],
          "name": "stdout"
        }
      ]
    },
    {
      "cell_type": "markdown",
      "metadata": {
        "id": "WJVJBYbtwqyD",
        "colab_type": "text"
      },
      "source": [
        "### IterativeImputer"
      ]
    },
    {
      "cell_type": "markdown",
      "metadata": {
        "id": "phesvPMhw3_I",
        "colab_type": "text"
      },
      "source": [
        "#### Multivariate feature imputation"
      ]
    },
    {
      "cell_type": "code",
      "metadata": {
        "id": "2UpHv8xVxD7-",
        "colab_type": "code",
        "outputId": "ac4ad870-a994-4b18-9d48-19e29902e90b",
        "colab": {
          "base_uri": "https://localhost:8080/",
          "height": 69
        }
      },
      "source": [
        "# REF - https://scikit-learn.org/stable/modules/impute.html\n",
        "\n",
        "import numpy as np\n",
        "from sklearn.experimental import enable_iterative_imputer\n",
        "from sklearn.impute import IterativeImputer\n",
        "\n",
        "imp = IterativeImputer(max_iter=10, random_state=0)\n",
        "\n",
        "imp.fit([[1, 2], [3, 6], [4, 8], [np.nan, 3], [7, np.nan]])  \n",
        "\n",
        "\n",
        "X_test = [[np.nan, 2], [6, np.nan], [np.nan, 6]]\n",
        "# the model learns that the second feature is double the first\n",
        "print(np.round(imp.transform(X_test)))\n"
      ],
      "execution_count": 0,
      "outputs": [
        {
          "output_type": "stream",
          "text": [
            "[[ 1.  2.]\n",
            " [ 6. 12.]\n",
            " [ 3.  6.]]\n"
          ],
          "name": "stdout"
        }
      ]
    },
    {
      "cell_type": "markdown",
      "metadata": {
        "id": "UBPPNFRhybBC",
        "colab_type": "text"
      },
      "source": [
        "# Simple optimization"
      ]
    },
    {
      "cell_type": "markdown",
      "metadata": {
        "id": "ToBPM6xrGHDk",
        "colab_type": "text"
      },
      "source": [
        "## Line fitting"
      ]
    },
    {
      "cell_type": "code",
      "metadata": {
        "id": "RwjNGvRPyfIh",
        "colab_type": "code",
        "outputId": "13dbc0b8-c1ec-4965-e44a-9b9b2b29b62b",
        "colab": {
          "base_uri": "https://localhost:8080/",
          "height": 321
        }
      },
      "source": [
        "# Author: Kalidas Y <ykalidas at iittp dot ac dot in>\n",
        "# License: BSD 3 clause\n",
        "\n",
        "import numpy as np\n",
        "import matplotlib.pyplot as plt\n",
        "from scipy.optimize import minimize\n",
        "\n",
        "x = np.linspace(0,10,10)\n",
        "\n",
        "y = 3 * x + 2 # we need to automatically figure out 3 and 2\n",
        "\n",
        "print (x.shape, y.shape)\n",
        "\n",
        "plt.xlim([0,10])\n",
        "plt.ylim([0,10])\n",
        "\n",
        "plt.plot(x,y)\n",
        "\n",
        "f = lambda w : w[0]*x + w[1] #define f symbolically\n",
        "mu = lambda z : np.sum(z)/z.shape[0] #to compute average\n",
        "\n",
        "def fun_error(w) :\n",
        "  tmp = np.sum((f(w) - y)**2)/x.shape[0]\n",
        "  return tmp\n",
        "\n",
        "def fun_grad(w) :\n",
        "  tmp = np.zeros(2)\n",
        "  \n",
        "  a = 2*(f(w)-y)\n",
        "  \n",
        "  tmp[0] = mu(a*x)\n",
        "  tmp[1] = mu(a*1)\n",
        "  \n",
        "  return tmp\n",
        "\n",
        "a = -1000\n",
        "b = 27863\n",
        "\n",
        "w_init = np.asarray([a,b])\n",
        "\n",
        "print ('init value = ', w_init)\n",
        "\n",
        "res = minimize(fun=fun_error, x0=w_init, jac=fun_grad,method='BFGS')\n",
        "\n",
        "print ('solution = ',res.x)\n",
        "\n"
      ],
      "execution_count": 0,
      "outputs": [
        {
          "output_type": "stream",
          "text": [
            "(10,) (10,)\n",
            "init value =  [-1000 27863]\n",
            "solution =  [3. 2.]\n"
          ],
          "name": "stdout"
        },
        {
          "output_type": "display_data",
          "data": {
            "image/png": "[encoded data removed]",
            "text/plain": [
              "<Figure size 432x288 with 1 Axes>"
            ]
          },
          "metadata": {
            "tags": []
          }
        }
      ]
    },
    {
      "cell_type": "markdown",
      "metadata": {
        "id": "6IifChqqIud4",
        "colab_type": "text"
      },
      "source": [
        "## Quadratic fitting"
      ]
    },
    {
      "cell_type": "code",
      "metadata": {
        "id": "4NsRCwzqIztK",
        "colab_type": "code",
        "outputId": "3cab0487-111e-42c4-a811-f89f039fd244",
        "colab": {
          "base_uri": "https://localhost:8080/",
          "height": 321
        }
      },
      "source": [
        "# Author: Kalidas Y <ykalidas at iittp dot ac dot in>\n",
        "# License: BSD 3 clause\n",
        "\n",
        "import numpy as np\n",
        "import matplotlib.pyplot as plt\n",
        "from scipy.optimize import minimize\n",
        "\n",
        "x = np.linspace(0,10,100)\n",
        "\n",
        "y = 3 * x**2 - 9*x + 12 # we need to automatically figure out 3, -9, 12\n",
        "\n",
        "print (x.shape, y.shape)\n",
        "\n",
        "plt.xlim([0,10])\n",
        "plt.ylim([0,10])\n",
        "\n",
        "plt.plot(x,y)\n",
        "\n",
        "# y = a.x^2 + b.x + c\n",
        "\n",
        "f = lambda w : w[0]*(x**2) + w[1]*x + w[2]\n",
        "mu = lambda z : np.sum(z)/z.shape[0]\n",
        "\n",
        "def fun_error(w) :\n",
        "  tmp = np.sum((f(w) - y)**2)/x.shape[0]\n",
        "  return tmp\n",
        "\n",
        "def fun_grad(w) :\n",
        "  tmp = np.zeros(3)\n",
        "  \n",
        "  a = 2*(f(w) - y)\n",
        "  \n",
        "  tmp[0] = mu(a*(x**2))\n",
        "  tmp[1] = mu(a*x)\n",
        "  tmp[2] = mu(a)\n",
        "  \n",
        "  return tmp\n",
        "\n",
        "a = -1000\n",
        "b = 27863\n",
        "c = -900\n",
        "\n",
        "w_init = np.asarray([a,b,c])\n",
        "\n",
        "print ('init value = ', w_init)\n",
        "\n",
        "res = minimize(fun=fun_error, x0=w_init, jac=fun_grad,method='BFGS')\n",
        "\n",
        "print ('solution = ',res.x)\n",
        "\n"
      ],
      "execution_count": 0,
      "outputs": [
        {
          "output_type": "stream",
          "text": [
            "(100,) (100,)\n",
            "init value =  [-1000 27863  -900]\n",
            "solution =  [ 3.         -9.         11.99999999]\n"
          ],
          "name": "stdout"
        },
        {
          "output_type": "display_data",
          "data": {
            "image/png": "[encoded data removed]",
            "text/plain": [
              "<Figure size 432x288 with 1 Axes>"
            ]
          },
          "metadata": {
            "tags": []
          }
        }
      ]
    },
    {
      "cell_type": "markdown",
      "metadata": {
        "id": "IbsizdSvGL1t",
        "colab_type": "text"
      },
      "source": [
        "## Exercises\n",
        "\n",
        "1. Change line\n",
        "1. Change quadratic\n",
        "1. Change number of points\n",
        "1. Fit for a polynomial of degree 6"
      ]
    },
    {
      "cell_type": "markdown",
      "metadata": {
        "id": "gal7t0zan_nQ",
        "colab_type": "text"
      },
      "source": [
        "# Linear Regression"
      ]
    },
    {
      "cell_type": "markdown",
      "metadata": {
        "id": "Er2DhEDDvNvI",
        "colab_type": "text"
      },
      "source": [
        "## Generate data"
      ]
    },
    {
      "cell_type": "code",
      "metadata": {
        "id": "pBcOX2nUoDo4",
        "colab_type": "code",
        "colab": {}
      },
      "source": [
        "# Author: Kalidas Y <ykalidas at iittp dot ac dot in>\n",
        "# License: BSD 3 clause\n",
        "\n",
        "import numpy as np\n",
        "import matplotlib.pyplot as plt"
      ],
      "execution_count": 0,
      "outputs": []
    },
    {
      "cell_type": "markdown",
      "metadata": {
        "id": "eCO41iqTz7YM",
        "colab_type": "text"
      },
      "source": [
        "### (x,y) coordinates"
      ]
    },
    {
      "cell_type": "code",
      "metadata": {
        "id": "Bfpzd9cyvjbT",
        "colab_type": "code",
        "outputId": "ce28c4bb-6e5e-4359-da9c-f802dcf306b9",
        "colab": {
          "base_uri": "https://localhost:8080/",
          "height": 208
        }
      },
      "source": [
        "# Author: Kalidas Y <ykalidas at iittp dot ac dot in>\n",
        "# License: BSD 3 clause\n",
        "\n",
        "X1 = 2 * np.random.rand(100, 1)\n",
        "y = 4 + 3 * X1 + np.random.randn(100, 1)\n",
        "\n",
        "print (X1.shape, y.shape)\n",
        "\n",
        "print (X1[0:10])"
      ],
      "execution_count": 0,
      "outputs": [
        {
          "output_type": "stream",
          "text": [
            "(100, 1) (100, 1)\n",
            "[[1.16]\n",
            " [0.88]\n",
            " [1.45]\n",
            " [0.97]\n",
            " [1.75]\n",
            " [1.8 ]\n",
            " [0.84]\n",
            " [0.55]\n",
            " [1.18]\n",
            " [1.82]]\n"
          ],
          "name": "stdout"
        }
      ]
    },
    {
      "cell_type": "markdown",
      "metadata": {
        "id": "ycKgrss-z6NU",
        "colab_type": "text"
      },
      "source": [
        "### (x,1,y) y-intercept"
      ]
    },
    {
      "cell_type": "code",
      "metadata": {
        "id": "-iKebz4c0EKr",
        "colab_type": "code",
        "outputId": "65501f84-00e6-4964-fda5-8386700dd549",
        "colab": {
          "base_uri": "https://localhost:8080/",
          "height": 208
        }
      },
      "source": [
        "# Author: Kalidas Y <ykalidas at iittp dot ac dot in>\n",
        "# License: BSD 3 clause\n",
        "\n",
        "ones_col = np.ones((100,1))\n",
        "\n",
        "X = np.concatenate((X1,ones_col),axis=1)\n",
        "\n",
        "print (X.shape, y.shape, ones_col.shape)\n",
        "\n",
        "print (X[0:10])"
      ],
      "execution_count": 0,
      "outputs": [
        {
          "output_type": "stream",
          "text": [
            "(100, 2) (100, 1) (100, 1)\n",
            "[[1.16855467 1.        ]\n",
            " [0.63480388 1.        ]\n",
            " [1.56154309 1.        ]\n",
            " [1.92382498 1.        ]\n",
            " [0.3837862  1.        ]\n",
            " [0.57737991 1.        ]\n",
            " [0.47296835 1.        ]\n",
            " [1.66109998 1.        ]\n",
            " [1.1857846  1.        ]\n",
            " [1.45475244 1.        ]]\n"
          ],
          "name": "stdout"
        }
      ]
    },
    {
      "cell_type": "markdown",
      "metadata": {
        "id": "RWyh1SgjvQqB",
        "colab_type": "text"
      },
      "source": [
        "### Plot data"
      ]
    },
    {
      "cell_type": "code",
      "metadata": {
        "id": "_lx4aGDBuJVa",
        "colab_type": "code",
        "outputId": "5c033b73-172d-4683-b822-2e89f75a3f4e",
        "colab": {
          "base_uri": "https://localhost:8080/",
          "height": 303
        }
      },
      "source": [
        "# Author: Kalidas Y <ykalidas at iittp dot ac dot in>\n",
        "# License: BSD 3 clause\n",
        "\n",
        "plt.title(\"Data\")\n",
        "plt.plot(X[:,0], y, \"b.\")\n",
        "plt.xlabel(\"X\", fontsize=18)\n",
        "plt.ylabel(\"y\", rotation=0, fontsize=18)\n",
        "plt.axis([0, 2, 0, 15])\n",
        "plt.show()"
      ],
      "execution_count": 0,
      "outputs": [
        {
          "output_type": "display_data",
          "data": {
            "image/png": "[encoded data removed]",
            "text/plain": [
              "<Figure size 432x288 with 1 Axes>"
            ]
          },
          "metadata": {
            "tags": []
          }
        }
      ]
    },
    {
      "cell_type": "markdown",
      "metadata": {
        "id": "wn6wOrUfypa3",
        "colab_type": "text"
      },
      "source": [
        "## Analytical solution"
      ]
    },
    {
      "cell_type": "markdown",
      "metadata": {
        "id": "5yif2IMlQ-Cc",
        "colab_type": "text"
      },
      "source": [
        "### Formulation"
      ]
    },
    {
      "cell_type": "code",
      "metadata": {
        "id": "YUmODUDezNMf",
        "colab_type": "code",
        "outputId": "5436c41a-7e53-4295-c174-57a45666c088",
        "colab": {
          "base_uri": "https://localhost:8080/",
          "height": 52
        }
      },
      "source": [
        "# Author: Kalidas Y <ykalidas at iittp dot ac dot in>\n",
        "# License: BSD 3 clause\n",
        "\n",
        "w_analytical = np.matmul( np.matmul( np.linalg.inv( np.matmul (X.T, X) ), X.T ), y)\n",
        "\n",
        "print (w_analytical)"
      ],
      "execution_count": 0,
      "outputs": [
        {
          "output_type": "stream",
          "text": [
            "[[2.77734942]\n",
            " [4.20342371]]\n"
          ],
          "name": "stdout"
        }
      ]
    },
    {
      "cell_type": "markdown",
      "metadata": {
        "id": "lvyb33VN7ln-",
        "colab_type": "text"
      },
      "source": [
        "### Test Analytical Solution"
      ]
    },
    {
      "cell_type": "code",
      "metadata": {
        "id": "VUYu67X77pfx",
        "colab_type": "code",
        "outputId": "5990e895-6e96-4146-da50-9d8f2dd0946c",
        "colab": {
          "base_uri": "https://localhost:8080/",
          "height": 304
        }
      },
      "source": [
        "# Author: Kalidas Y <ykalidas at iittp dot ac dot in>\n",
        "# License: BSD 3 clause\n",
        "\n",
        "X_test = np.array([[0, 1], [2, 1]])\n",
        "\n",
        "y_pred = np.matmul( X_test, w_analytical)\n",
        "\n",
        "print (X_test[:,0].shape, y_pred.shape)\n",
        "\n",
        "y1 = np.concatenate((y_pred))\n",
        "\n",
        "#plot and see\n",
        "plt.plot(X_test[:,0], y1, \"r-\")\n",
        "plt.plot(X[:,0],y,'b.')\n"
      ],
      "execution_count": 0,
      "outputs": [
        {
          "output_type": "stream",
          "text": [
            "(2,) (2, 1)\n"
          ],
          "name": "stdout"
        },
        {
          "output_type": "execute_result",
          "data": {
            "text/plain": [
              "[<matplotlib.lines.Line2D at 0x7f154765a7f0>]"
            ]
          },
          "metadata": {
            "tags": []
          },
          "execution_count": 22
        },
        {
          "output_type": "display_data",
          "data": {
            "image/png": "[encoded data removed]",
            "text/plain": [
              "<Figure size 432x288 with 1 Axes>"
            ]
          },
          "metadata": {
            "tags": []
          }
        }
      ]
    },
    {
      "cell_type": "markdown",
      "metadata": {
        "id": "lKFuEjUKAJkb",
        "colab_type": "text"
      },
      "source": [
        "## Off the shelf library (sklearn)"
      ]
    },
    {
      "cell_type": "code",
      "metadata": {
        "id": "zLzUZsydAnmC",
        "colab_type": "code",
        "outputId": "f201feb1-56ff-4e39-8677-493770d994cd",
        "colab": {
          "base_uri": "https://localhost:8080/",
          "height": 86
        }
      },
      "source": [
        "# Author: Kalidas Y <ykalidas at iittp dot ac dot in>\n",
        "# License: BSD 3 clause\n",
        "\n",
        "from sklearn.linear_model import LinearRegression\n",
        "lin_reg = LinearRegression(fit_intercept=False)\n",
        "\n",
        "print (X.shape, y.shape)\n",
        "\n",
        "lin_reg.fit(X, y)\n",
        "\n",
        "print (lin_reg.coef_)\n",
        "\n",
        "print (w_analytical)\n",
        "\n",
        "w_sklearn = lin_reg.coef_.reshape(2,1)"
      ],
      "execution_count": 0,
      "outputs": [
        {
          "output_type": "stream",
          "text": [
            "(100, 2) (100, 1)\n",
            "[[2.77734942 4.20342371]]\n",
            "[[2.77734942]\n",
            " [4.20342371]]\n"
          ],
          "name": "stdout"
        }
      ]
    },
    {
      "cell_type": "markdown",
      "metadata": {
        "id": "Z-g2-yQ0BbQz",
        "colab_type": "text"
      },
      "source": [
        "## Gradient descent (manual)"
      ]
    },
    {
      "cell_type": "markdown",
      "metadata": {
        "id": "i-Z6I9i9BsLa",
        "colab_type": "text"
      },
      "source": [
        "### initial setting"
      ]
    },
    {
      "cell_type": "code",
      "metadata": {
        "id": "OJkqQ1fkBeJ6",
        "colab_type": "code",
        "colab": {}
      },
      "source": [
        "# Author: Kalidas Y <ykalidas at iittp dot ac dot in>\n",
        "# License: BSD 3 clause\n",
        "\n",
        "eta = 0.1\n",
        "n_iterations = 1000"
      ],
      "execution_count": 0,
      "outputs": []
    },
    {
      "cell_type": "markdown",
      "metadata": {
        "id": "gnB6Pl7YBuim",
        "colab_type": "text"
      },
      "source": [
        "### iterate to refine w"
      ]
    },
    {
      "cell_type": "code",
      "metadata": {
        "id": "YmV0QosJBnhS",
        "colab_type": "code",
        "outputId": "0b84eeaa-6589-44fc-b977-8ae86b80450c",
        "colab": {
          "base_uri": "https://localhost:8080/",
          "height": 121
        }
      },
      "source": [
        "# Author: Kalidas Y <ykalidas at iittp dot ac dot in>\n",
        "# License: BSD 3 clause\n",
        "\n",
        "w_iter = np.random.randn(2,1)\n",
        "\n",
        "for iteration in range(n_iterations):\n",
        "    grad_w = 2*np.matmul( X.T\n",
        "                         , np.matmul(X, w_iter) - y )/X.shape[0]\n",
        "    w_iter = w_iter - eta * grad_w\n",
        "    \n",
        "print (w_iter)\n",
        "\n",
        "print (w_analytical)\n",
        "\n",
        "print (w_sklearn)"
      ],
      "execution_count": 0,
      "outputs": [
        {
          "output_type": "stream",
          "text": [
            "[[2.77734942]\n",
            " [4.20342371]]\n",
            "[[2.77734942]\n",
            " [4.20342371]]\n",
            "[[2.77734942]\n",
            " [4.20342371]]\n"
          ],
          "name": "stdout"
        }
      ]
    },
    {
      "cell_type": "markdown",
      "metadata": {
        "id": "5PEZqqQvHOvD",
        "colab_type": "text"
      },
      "source": [
        "## Using Optimization tools"
      ]
    },
    {
      "cell_type": "markdown",
      "metadata": {
        "id": "Hyem9GxTIour",
        "colab_type": "text"
      },
      "source": [
        "### define loss function"
      ]
    },
    {
      "cell_type": "code",
      "metadata": {
        "id": "MrnljTmrIwiE",
        "colab_type": "code",
        "colab": {}
      },
      "source": [
        "# Author: Kalidas Y <ykalidas at iittp dot ac dot in>\n",
        "# License: BSD 3 clause\n",
        "\n",
        "def fun_error(w) :\n",
        "  diff = np.matmul(w, X.T) - y.T\n",
        "  err_val = np.matmul( diff, diff.T )/X.shape[0]\n",
        "  return err_val[0][0]"
      ],
      "execution_count": 0,
      "outputs": []
    },
    {
      "cell_type": "markdown",
      "metadata": {
        "id": "Udtfrp8WIlzF",
        "colab_type": "text"
      },
      "source": [
        "### define gradient function"
      ]
    },
    {
      "cell_type": "code",
      "metadata": {
        "id": "Zq6TjH_GHSSe",
        "colab_type": "code",
        "colab": {}
      },
      "source": [
        "# Author: Kalidas Y <ykalidas at iittp dot ac dot in>\n",
        "# License: BSD 3 clause\n",
        "\n",
        "def fun_grad_error(w) :\n",
        "  grad_val = 2*np.matmul( np.matmul(w, X.T) - y.T, X )/X.shape[0]\n",
        "  return np.concatenate(grad_val)"
      ],
      "execution_count": 0,
      "outputs": []
    },
    {
      "cell_type": "markdown",
      "metadata": {
        "id": "2Bo59p2kJXyE",
        "colab_type": "text"
      },
      "source": [
        "### invoke optimization func"
      ]
    },
    {
      "cell_type": "code",
      "metadata": {
        "id": "ng1Mcf9UJcrK",
        "colab_type": "code",
        "outputId": "3ccfc1d0-855c-47d5-c9b2-0e5b692ba36a",
        "colab": {
          "base_uri": "https://localhost:8080/",
          "height": 173
        }
      },
      "source": [
        "# Author: Kalidas Y <ykalidas at iittp dot ac dot in>\n",
        "# License: BSD 3 clause\n",
        "\n",
        "from scipy.optimize import minimize\n",
        "\n",
        "w_init = np.random.randn(1,2)\n",
        "\n",
        "err_val = fun_error(w_init)\n",
        "\n",
        "grad_val = fun_grad_error(w_init)\n",
        "\n",
        "print (err_val.shape, w_init.shape, grad_val.shape)\n",
        "\n",
        "print (err_val, w_init, grad_val)\n",
        "\n",
        "res = minimize(fun=fun_error, x0=w_init, jac=fun_grad_error,method='BFGS')\n",
        "\n",
        "w_minimized = res.x\n",
        "\n",
        "print (w_minimized)\n",
        "print (w_analytical)\n",
        "print (w_sklearn)\n",
        "print (w_iter)"
      ],
      "execution_count": 0,
      "outputs": [
        {
          "output_type": "stream",
          "text": [
            "() (1, 2) (2,)\n",
            "75.40075448706278 [[-1.01871603 -0.09276376]] [-20.10465411 -16.75535728]\n",
            "[2.77734945 4.20342375]\n",
            "[[2.77734942]\n",
            " [4.20342371]]\n",
            "[[2.77734942]\n",
            " [4.20342371]]\n",
            "[[2.77734942]\n",
            " [4.20342371]]\n"
          ],
          "name": "stdout"
        }
      ]
    },
    {
      "cell_type": "markdown",
      "metadata": {
        "id": "8R7Tn81w4doI",
        "colab_type": "text"
      },
      "source": [
        "## Exercises\n",
        "\n",
        "1. Increase number of data points\n",
        "1. Increase dimensionality of the input and handle error scenarios\n",
        "1. Change the data generation function\n",
        "1. Change initial value settings\n",
        "1. Change gradient function - learning rate\n"
      ]
    },
    {
      "cell_type": "markdown",
      "metadata": {
        "id": "5FsLNUgT6Odb",
        "colab_type": "text"
      },
      "source": [
        "# Polynomial fitting"
      ]
    },
    {
      "cell_type": "markdown",
      "metadata": {
        "id": "B43yyBZP73dY",
        "colab_type": "text"
      },
      "source": [
        "## Data generation"
      ]
    },
    {
      "cell_type": "code",
      "metadata": {
        "id": "a6s33thh8gX7",
        "colab_type": "code",
        "outputId": "03aceafb-01b3-4edd-921b-06a1ab64dca1",
        "colab": {
          "base_uri": "https://localhost:8080/",
          "height": 269
        }
      },
      "source": [
        "# Author: Kalidas Y <ykalidas at iittp dot ac dot in>\n",
        "# License: BSD 3 clause\n",
        "\n",
        "import numpy as np\n",
        "from scipy.optimize import minimize\n",
        "\n",
        "#Generate sinusodial data\n",
        "\n",
        "n_points = 15\n",
        "\n",
        "x_data = np.linspace(0,np.pi*2,n_points).reshape(-1,1)\n",
        "\n",
        "def fun(x) :\n",
        "    return np.sin(x)\n",
        "\n",
        "y_true = fun(x_data)\n",
        "y_noise = y_true +  + 0.1*np.random.randn(x_data.shape[0],1)\n",
        "\n",
        "import matplotlib.pyplot as plt\n",
        "\n",
        "plt.plot(x_data,y_noise,'.')\n",
        "\n",
        "plt.show()\n"
      ],
      "execution_count": 0,
      "outputs": [
        {
          "output_type": "display_data",
          "data": {
            "image/png": "[encoded data removed]",
            "text/plain": [
              "<Figure size 432x288 with 1 Axes>"
            ]
          },
          "metadata": {
            "tags": []
          }
        }
      ]
    },
    {
      "cell_type": "markdown",
      "metadata": {
        "id": "rO29afbn8icJ",
        "colab_type": "text"
      },
      "source": [
        "## Curve fitting (sklearn)"
      ]
    },
    {
      "cell_type": "markdown",
      "metadata": {
        "id": "GJH77JAwIF-W",
        "colab_type": "text"
      },
      "source": [
        "### Setting up"
      ]
    },
    {
      "cell_type": "code",
      "metadata": {
        "id": "0pnBo7268rZS",
        "colab_type": "code",
        "colab": {}
      },
      "source": [
        "# Author: Kalidas Y <ykalidas at iittp dot ac dot in>\n",
        "# License: BSD 3 clause\n",
        "\n",
        "#Generate degree 10 data from the above single dimension\n",
        "\n",
        "from sklearn.preprocessing import PolynomialFeatures\n",
        "from sklearn.linear_model import Ridge, LinearRegression\n",
        "from sklearn.pipeline import make_pipeline"
      ],
      "execution_count": 0,
      "outputs": []
    },
    {
      "cell_type": "markdown",
      "metadata": {
        "id": "ZJ6sl8y7IIE2",
        "colab_type": "text"
      },
      "source": [
        "### Plot ground truth"
      ]
    },
    {
      "cell_type": "code",
      "metadata": {
        "id": "UuaQK_1dIKj3",
        "colab_type": "code",
        "outputId": "32bab4fb-a2f4-48c7-93af-cee5919760fd",
        "colab": {
          "base_uri": "https://localhost:8080/",
          "height": 286
        }
      },
      "source": [
        "# Author: Kalidas Y <ykalidas at iittp dot ac dot in>\n",
        "# License: BSD 3 clause\n",
        "\n",
        "plt.plot( np.linspace(0,np.pi*2,100), fun(np.linspace(0,np.pi*2,100)), linestyle='-',color='green', label=\"true curve\")\n",
        "\n",
        "#actual data points\n",
        "plt.scatter(x_data,y_noise,color='green',marker='.',label=\"ground truth\")"
      ],
      "execution_count": 0,
      "outputs": [
        {
          "output_type": "execute_result",
          "data": {
            "text/plain": [
              "<matplotlib.collections.PathCollection at 0x7f1547528d68>"
            ]
          },
          "metadata": {
            "tags": []
          },
          "execution_count": 31
        },
        {
          "output_type": "display_data",
          "data": {
            "image/png": "[encoded data removed]",
            "text/plain": [
              "<Figure size 432x288 with 1 Axes>"
            ]
          },
          "metadata": {
            "tags": []
          }
        }
      ]
    },
    {
      "cell_type": "markdown",
      "metadata": {
        "id": "iJLeISU_LHRB",
        "colab_type": "text"
      },
      "source": [
        "### Polynomial degrees"
      ]
    },
    {
      "cell_type": "code",
      "metadata": {
        "id": "qWBiIjJ29hRm",
        "colab_type": "code",
        "outputId": "12ad1df4-e8d8-48c7-da56-f2b923a68eb9",
        "colab": {
          "base_uri": "https://localhost:8080/",
          "height": 269
        }
      },
      "source": [
        "# Author: Kalidas Y <ykalidas at iittp dot ac dot in>\n",
        "# License: BSD 3 clause\n",
        "\n",
        "colors = ['blue', 'navy', 'red']\n",
        "lw = 2\n",
        "\n",
        "for count, degree in enumerate([1, 5, 20]):\n",
        "    \n",
        "    model = make_pipeline(PolynomialFeatures(degree), LinearRegression())\n",
        "    model.fit(x_data, y_noise)\n",
        "    y_1 = model.predict(x_data)\n",
        "    \n",
        "    plt.plot(x_data, y_1, color=colors[count], linewidth=lw,\n",
        "             label=\"degree %d\" % degree)\n",
        "\n",
        "plt.legend(loc='lower left')\n",
        "\n",
        "\n",
        "#plot true curve\n",
        "plt.plot( np.linspace(0,np.pi*2,100), fun(np.linspace(0,np.pi*2,100)), linestyle='-',color='green', label=\"true curve\")\n",
        "\n",
        "#actual data points\n",
        "plt.scatter(x_data,y_noise,color='green',marker='.',label=\"ground truth\")\n",
        "\n",
        "plt.show()"
      ],
      "execution_count": 0,
      "outputs": [
        {
          "output_type": "display_data",
          "data": {
            "image/png": "[encoded data removed]",
            "text/plain": [
              "<Figure size 432x288 with 1 Axes>"
            ]
          },
          "metadata": {
            "tags": []
          }
        }
      ]
    },
    {
      "cell_type": "markdown",
      "metadata": {
        "id": "tQa-GW3uQr8l",
        "colab_type": "text"
      },
      "source": [
        "### Exercises\n",
        "\n",
        "1. Change number of points\n",
        "1. Change degrees\n",
        "1. Change function\n",
        "1. Change noise"
      ]
    },
    {
      "cell_type": "markdown",
      "metadata": {
        "id": "KLADLfNwLPSh",
        "colab_type": "text"
      },
      "source": [
        "# Polynomial fitting & Regularization"
      ]
    },
    {
      "cell_type": "markdown",
      "metadata": {
        "id": "y1KCFMZmRoEk",
        "colab_type": "text"
      },
      "source": [
        "## Plot Ridge regression"
      ]
    },
    {
      "cell_type": "markdown",
      "metadata": {
        "id": "pXvw8RLQL7SJ",
        "colab_type": "text"
      },
      "source": [
        "### Data generation"
      ]
    },
    {
      "cell_type": "code",
      "metadata": {
        "id": "xQykkjZwL8ng",
        "colab_type": "code",
        "outputId": "7c9ae39e-7335-4703-c67f-56a70ebaf1dd",
        "colab": {
          "base_uri": "https://localhost:8080/",
          "height": 269
        }
      },
      "source": [
        "# Author: Kalidas Y <ykalidas at iittp dot ac dot in>\n",
        "# License: BSD 3 clause\n",
        "\n",
        "import numpy as np\n",
        "from scipy.optimize import minimize\n",
        "\n",
        "#Generate sinusodial data\n",
        "\n",
        "n_points = 10\n",
        "\n",
        "x_data = np.linspace(0,np.pi*2,n_points).reshape(-1,1)\n",
        "\n",
        "def fun(x) :\n",
        "    return np.sin(x) + 0.2*np.random.randn(x.shape[0],1)\n",
        "\n",
        "y_data = fun(x_data)\n",
        "\n",
        "import matplotlib.pyplot as plt\n",
        "\n",
        "plt.plot(x_data,y_data,'.')\n",
        "\n",
        "plt.show()"
      ],
      "execution_count": 0,
      "outputs": [
        {
          "output_type": "display_data",
          "data": {
            "image/png": "[encoded data removed]",
            "text/plain": [
              "<Figure size 432x288 with 1 Axes>"
            ]
          },
          "metadata": {
            "tags": []
          }
        }
      ]
    },
    {
      "cell_type": "code",
      "metadata": {
        "id": "IIG77hr-SNDu",
        "colab_type": "code",
        "outputId": "a0e472f7-ddd2-4d73-802a-d45416414f4e",
        "colab": {
          "base_uri": "https://localhost:8080/",
          "height": 286
        }
      },
      "source": [
        "# Author: Kalidas Y <ykalidas at iittp dot ac dot in>\n",
        "# License: BSD 3 clause\n",
        "\n",
        "from sklearn.linear_model import Ridge\n",
        "from sklearn.pipeline import make_pipeline, Pipeline\n",
        "from sklearn.preprocessing import PolynomialFeatures, StandardScaler\n",
        "\n",
        "degree1 = 15\n",
        "\n",
        "pairs = [('purple',0.001), ('blue',0.01),('orange',0.1),('pink',1.0),('red',10.0)]\n",
        "\n",
        "ax = plt.gca()\n",
        "\n",
        "legends = []\n",
        "\n",
        "a = plt.plot(x_data,y_data,'*',color='green')\n",
        "legends.append((a[0],'ground'))\n",
        "\n",
        "\n",
        "for color1,alpha1 in pairs:\n",
        "\n",
        "  reg_poly = make_pipeline(PolynomialFeatures(degree=degree1), StandardScaler(),Ridge(alpha=alpha1)) \n",
        "\n",
        "  reg_poly.fit(x_data,y_data)\n",
        "\n",
        "  ypred = reg_poly.predict(x_data)\n",
        "\n",
        "  a = plt.plot(x_data,ypred,color=color1)\n",
        "  legends.append((a[0],str(alpha1)))\n",
        "  \n",
        "ax.legend([h for h,l in legends],[l for h,l in legends])\n",
        "  \n"
      ],
      "execution_count": 0,
      "outputs": [
        {
          "output_type": "execute_result",
          "data": {
            "text/plain": [
              "<matplotlib.legend.Legend at 0x7f15473e5940>"
            ]
          },
          "metadata": {
            "tags": []
          },
          "execution_count": 34
        },
        {
          "output_type": "display_data",
          "data": {
            "image/png": "[encoded data removed]",
            "text/plain": [
              "<Figure size 432x288 with 1 Axes>"
            ]
          },
          "metadata": {
            "tags": []
          }
        }
      ]
    },
    {
      "cell_type": "markdown",
      "metadata": {
        "id": "mob7XzjhY_D3",
        "colab_type": "text"
      },
      "source": [
        "### Exercises\n",
        "\n",
        "1. Change number of points in the data set\n",
        "1. Change $\\alpha $ values\n",
        "1. Change degree values"
      ]
    },
    {
      "cell_type": "markdown",
      "metadata": {
        "id": "6YkyxfNLLnO6",
        "colab_type": "text"
      },
      "source": [
        "## Fit with L1 and L2 regularizations"
      ]
    },
    {
      "cell_type": "code",
      "metadata": {
        "id": "QuNO7M8ELR8K",
        "colab_type": "code",
        "outputId": "f258a489-3466-4bcc-a643-4d5925a78e2c",
        "colab": {
          "base_uri": "https://localhost:8080/",
          "height": 193
        }
      },
      "source": [
        "# Author: Kalidas Y <ykalidas at iittp dot ac dot in>\n",
        "# License: BSD 3 clause\n",
        "\n",
        "#Fit curve using L1 and L2 regularization\n",
        "\n",
        "x = PolynomialFeatures(degree=10).fit_transform(x_data)\n",
        "y = y_data\n",
        "\n",
        "from sklearn import linear_model\n",
        "reg_l2 = linear_model.Ridge(alpha=1).fit(x, y)\n",
        "reg_l1 = linear_model.Lasso(alpha=1).fit(x,y)\n",
        "print (reg_l2.coef_, reg_l1.coef_)"
      ],
      "execution_count": 0,
      "outputs": [
        {
          "output_type": "stream",
          "text": [
            "[[ 0.00000000e+00  3.11528507e-01  1.88312383e-01  5.39613786e-02\n",
            "  -4.72948487e-02 -4.75237598e-02  3.15083484e-02 -7.96905622e-03\n",
            "   1.16533251e-03 -1.04022649e-04  4.32936940e-06]] [ 0.00000000e+00  0.00000000e+00  0.00000000e+00 -0.00000000e+00\n",
            " -9.04320148e-03  5.05989182e-04  1.40417061e-04  9.80534269e-06\n",
            "  2.32756016e-07 -1.00880831e-07 -2.94582482e-08]\n"
          ],
          "name": "stdout"
        },
        {
          "output_type": "stream",
          "text": [
            "/usr/local/lib/python3.6/dist-packages/sklearn/linear_model/ridge.py:187: LinAlgWarning: Ill-conditioned matrix (rcond=3.08545e-17): result may not be accurate.\n",
            "  overwrite_a=False)\n",
            "/usr/local/lib/python3.6/dist-packages/sklearn/linear_model/coordinate_descent.py:475: ConvergenceWarning: Objective did not converge. You might want to increase the number of iterations. Duality gap: 0.8880111262775615, tolerance: 0.0004917926469026897\n",
            "  positive)\n"
          ],
          "name": "stderr"
        }
      ]
    },
    {
      "cell_type": "markdown",
      "metadata": {
        "id": "wgxBXuubLq6t",
        "colab_type": "text"
      },
      "source": [
        "### Prediction"
      ]
    },
    {
      "cell_type": "code",
      "metadata": {
        "id": "eNGrRWzfLvHM",
        "colab_type": "code",
        "colab": {}
      },
      "source": [
        "# Author: Kalidas Y <ykalidas at iittp dot ac dot in>\n",
        "# License: BSD 3 clause\n",
        "\n",
        "y_pred_l2 = np.matmul(x,reg_l2.coef_.T)\n",
        "y_pred_l1 = np.matmul(x,reg_l1.coef_.T)"
      ],
      "execution_count": 0,
      "outputs": []
    },
    {
      "cell_type": "markdown",
      "metadata": {
        "id": "qEZWmGVZMLAI",
        "colab_type": "text"
      },
      "source": [
        "### Plot L1 and L2 curves"
      ]
    },
    {
      "cell_type": "code",
      "metadata": {
        "id": "-zj5Ffv7MWYf",
        "colab_type": "code",
        "outputId": "5caac6e2-1c67-479a-85c6-2dd24796282d",
        "colab": {
          "base_uri": "https://localhost:8080/",
          "height": 366
        }
      },
      "source": [
        "# Author: Kalidas Y <ykalidas at iittp dot ac dot in>\n",
        "# License: BSD 3 clause\n",
        "\n",
        "plt.figure(dpi=100)\n",
        "act_plt = plt.plot(x_data,y,'*',color='green')\n",
        "l1_plt = plt.plot(x_data,y_pred_l1,color='red')\n",
        "l2_plt = plt.plot(x_data,y_pred_l2,color='blue')\n",
        "\n",
        "ax = plt.gca()\n",
        "\n",
        "ax.legend([act_plt[0], l1_plt[0], l2_plt[0]],['Actual','L1','L2'])\n",
        "\n",
        "plt.show()\n",
        "\n",
        "#Refer to https://discourse.julialang.org/t/userwarning-legend-does-not-support-line2d-object/970/3\n",
        "\n"
      ],
      "execution_count": 0,
      "outputs": [
        {
          "output_type": "display_data",
          "data": {
            "image/png": "[encoded data removed]",
            "text/plain": [
              "<Figure size 600x400 with 1 Axes>"
            ]
          },
          "metadata": {
            "tags": []
          }
        }
      ]
    },
    {
      "cell_type": "markdown",
      "metadata": {
        "id": "Fl2yn7H-dSq-",
        "colab_type": "text"
      },
      "source": [
        "### Different $L_p$ normalizations"
      ]
    },
    {
      "cell_type": "code",
      "metadata": {
        "id": "pXYHPV5AdqU0",
        "colab_type": "code",
        "outputId": "71521cef-b34c-445d-fdd6-31e1cc984281",
        "colab": {
          "base_uri": "https://localhost:8080/",
          "height": 506
        }
      },
      "source": [
        "# Author: Kalidas Y <ykalidas at iittp dot ac dot in>\n",
        "# License: BSD 3 clause\n",
        "\n",
        "print(__doc__)\n",
        "\n",
        "import numpy as np\n",
        "import matplotlib.pyplot as plt\n",
        "\n",
        "lhalf_color = \"maroon\"\n",
        "l1_color = \"green\"\n",
        "l2_color = \"red\"\n",
        "l3_color = \"blue\"\n",
        "l100_color = \"purple\"\n",
        "#elastic_net_color = \"green\"\n",
        "\n",
        "line = np.linspace(-3.0, 3.0, 1001)\n",
        "xx, yy = np.meshgrid(line, line)\n",
        "\n",
        "l100 = np.power(np.abs(xx) ** 100 + np.abs(yy) ** 100, 1/100.0)\n",
        "l3 = np.power(np.abs(xx) ** 3 + np.abs(yy) ** 3, 1/3.0)\n",
        "l2 = np.sqrt(xx ** 2 + yy ** 2)\n",
        "l1 = np.abs(xx) + np.abs(yy)\n",
        "lhalf = np.power(np.sqrt(np.abs(xx)) + np.sqrt(np.abs(yy)), 2)\n",
        "\n",
        "#rho = 0.5\n",
        "#elastic_net = rho * l1 + (1 - rho) * l2\n",
        "\n",
        "plt.figure(figsize=(6, 6), dpi=80)\n",
        "ax = plt.gca()\n",
        "\n",
        "#elastic_net_contour = plt.contour(xx, yy, elastic_net, levels=[1.5],\n",
        "#colors=elastic_net_color)\n",
        "\n",
        "l100_contour = plt.contour(xx, yy, l100, levels=[0, 0.5, 1, 2, 3], colors=l100_color)\n",
        "l3_contour = plt.contour(xx, yy, l3, levels=[0, 0.5, 1, 2, 3], colors=l3_color)\n",
        "l2_contour = plt.contour(xx, yy, l2, levels=[0, 0.5, 1, 2, 3], colors=l2_color)\n",
        "l1_contour = plt.contour(xx, yy, l1, levels=[0, 0.5, 1, 2, 3], colors=l1_color)\n",
        "lhalf_contour = plt.contour(xx, yy, lhalf, levels=[0, 0.5, 1, 2, 3], colors=lhalf_color)\n",
        "\n",
        "ax.set_aspect(\"equal\")\n",
        "\n",
        "leg_list = []\n",
        "leg_labs = ['L100','L3','L2','L1','L0.5']\n",
        "for x in [ l100_contour, l3_contour, l2_contour, l1_contour, lhalf_contour ] :\n",
        "  leg,_ = x.legend_elements()\n",
        "  leg_list.append(leg[0])\n",
        "\n",
        "ax.legend(leg_list, leg_labs)\n",
        "\n",
        "\n",
        "#ax.spines['left'].set_position('center')\n",
        "#ax.spines['right'].set_color('none')\n",
        "#ax.spines['bottom'].set_position('center')\n",
        "#ax.spines['top'].set_color('none')\n",
        "\n",
        "#plt.clabel(elastic_net_contour, inline=1, fontsize=18, fmt={1.0: 'elastic-net'}, manual=[(-1, -1)])\n",
        "#plt.clabel(l2_contour, inline=1, fontsize=18,\n",
        "#           fmt={1.0: 'L2'}, manual=[(-1, -1)])\n",
        "#plt.clabel(l1_contour, inline=1, fontsize=18,\n",
        "#           fmt={1.0: 'L1'}, manual=[(-1, -1)])\n",
        "\n",
        "plt.tight_layout()\n",
        "plt.show()"
      ],
      "execution_count": 0,
      "outputs": [
        {
          "output_type": "stream",
          "text": [
            "Automatically created module for IPython interactive environment\n"
          ],
          "name": "stdout"
        },
        {
          "output_type": "display_data",
          "data": {
            "image/png": "[encoded data removed]",
            "text/plain": [
              "<Figure size 480x480 with 1 Axes>"
            ]
          },
          "metadata": {
            "tags": []
          }
        }
      ]
    },
    {
      "cell_type": "markdown",
      "metadata": {
        "id": "YkA4cSVeeCUg",
        "colab_type": "text"
      },
      "source": [
        "### Exercises\n",
        "\n",
        "1. Plot L_0.1 plot above\n",
        "1. Plot L1 and L2 curves for degree=20\n",
        "1. Plot L1 and L2 curves for different number of points in the data"
      ]
    },
    {
      "cell_type": "markdown",
      "metadata": {
        "id": "jjqEt9mlMkPR",
        "colab_type": "text"
      },
      "source": [
        "# Logistic Regression"
      ]
    },
    {
      "cell_type": "markdown",
      "metadata": {
        "id": "6WS8_7t3erMB",
        "colab_type": "text"
      },
      "source": [
        "## Data generation"
      ]
    },
    {
      "cell_type": "code",
      "metadata": {
        "id": "xMB1cog6etTm",
        "colab_type": "code",
        "outputId": "adfdb83b-7cd7-49ad-daca-6d45f9dba53d",
        "colab": {
          "base_uri": "https://localhost:8080/",
          "height": 286
        }
      },
      "source": [
        "# Author: Kalidas Y <ykalidas at iittp dot ac dot in>\n",
        "# License: BSD 3 clause\n",
        "\n",
        "from sklearn.datasets import make_moons, make_circles, make_classification\n",
        "import matplotlib.pyplot as plt\n",
        "from matplotlib.colors import ListedColormap\n",
        "from sklearn.linear_model import LogisticRegression\n",
        "import numpy as np\n",
        "\n",
        "#X, y = make_circles(noise=0.2, factor=0.5, random_state=1)\n",
        "X, y = make_moons(noise=0.3, random_state=0)\n",
        "\n",
        "\n",
        "plt.scatter(X[:,0],X[:,1],c=y,cmap=ListedColormap(['#FF0000', '#0000FF']))\n",
        "\n",
        "print (X.shape, y.shape)"
      ],
      "execution_count": 0,
      "outputs": [
        {
          "output_type": "stream",
          "text": [
            "(100, 2) (100,)\n"
          ],
          "name": "stdout"
        },
        {
          "output_type": "display_data",
          "data": {
            "image/png": "[encoded data removed]",
            "text/plain": [
              "<Figure size 432x288 with 1 Axes>"
            ]
          },
          "metadata": {
            "tags": []
          }
        }
      ]
    },
    {
      "cell_type": "markdown",
      "metadata": {
        "id": "kfZoVXPlfyHU",
        "colab_type": "text"
      },
      "source": [
        "## Solving by optimization equation"
      ]
    },
    {
      "cell_type": "markdown",
      "metadata": {
        "id": "1AmMGY-ppL8n",
        "colab_type": "text"
      },
      "source": [
        "### Primary -1, 1 form (2 class problem)"
      ]
    },
    {
      "cell_type": "markdown",
      "metadata": {
        "id": "Ov_WJ7wfuz4U",
        "colab_type": "text"
      },
      "source": [
        "#### define sigmoid function"
      ]
    },
    {
      "cell_type": "code",
      "metadata": {
        "id": "SIHUGLiUuXOR",
        "colab_type": "code",
        "outputId": "f142371c-72f8-4128-b649-36d31334296e",
        "colab": {
          "base_uri": "https://localhost:8080/",
          "height": 34
        }
      },
      "source": [
        "# Author: Kalidas Y <ykalidas at iittp dot ac dot in>\n",
        "# License: BSD 3 clause\n",
        "\n",
        "# -1 and 1 as labels\n",
        "y_negpos = (2*y - 1).reshape(-1,1)\n",
        "\n",
        "print (y_negpos.shape)\n",
        "\n",
        "def fun1_sigmoid(w) :  \n",
        "  w = w.reshape(-1,1)\n",
        "  tmp = 1/( 1 + np.exp( np.multiply(-1 * y_negpos, np.matmul(X,w) ) ) )\n",
        "  return tmp\n"
      ],
      "execution_count": 0,
      "outputs": [
        {
          "output_type": "stream",
          "text": [
            "(100, 1)\n"
          ],
          "name": "stdout"
        }
      ]
    },
    {
      "cell_type": "markdown",
      "metadata": {
        "id": "G7TFS-TDgK74",
        "colab_type": "text"
      },
      "source": [
        "#### define error function"
      ]
    },
    {
      "cell_type": "code",
      "metadata": {
        "id": "qMq9UJ0bgTDW",
        "colab_type": "code",
        "colab": {}
      },
      "source": [
        "# Author: Kalidas Y <ykalidas at iittp dot ac dot in>\n",
        "# License: BSD 3 clause\n",
        "\n",
        "def fun1_error(w) :\n",
        "  tmp = fun1_sigmoid(w)\n",
        "  tmp = np.log(1/tmp)\n",
        "  return np.sum(tmp)/X.shape[0]\n",
        "  \n",
        "  "
      ],
      "execution_count": 0,
      "outputs": []
    },
    {
      "cell_type": "markdown",
      "metadata": {
        "id": "7uwoSZnZgOPa",
        "colab_type": "text"
      },
      "source": [
        "#### define gradient function"
      ]
    },
    {
      "cell_type": "code",
      "metadata": {
        "id": "oz2DVwrzjVnJ",
        "colab_type": "code",
        "colab": {}
      },
      "source": [
        "# Author: Kalidas Y <ykalidas at iittp dot ac dot in>\n",
        "# License: BSD 3 clause\n",
        "\n",
        "def fun1_grad(w) :\n",
        "  tmp = fun1_sigmoid(w)\n",
        "  tmp2 = 1 - tmp\n",
        "  tmp3 = np.multiply(-1*y_negpos, tmp2)\n",
        "  tmp4 = np.matmul(X.T,tmp3)/X.shape[0]*0.01\n",
        "  return tmp4.T[0]"
      ],
      "execution_count": 0,
      "outputs": []
    },
    {
      "cell_type": "markdown",
      "metadata": {
        "id": "0rlg2lKso1XW",
        "colab_type": "text"
      },
      "source": [
        "### Alternative 0,1 form (2 class problem)"
      ]
    },
    {
      "cell_type": "code",
      "metadata": {
        "id": "Nd6SsEMYo5Vs",
        "colab_type": "code",
        "colab": {}
      },
      "source": [
        "# Author: Kalidas Y <ykalidas at iittp dot ac dot in>\n",
        "# License: BSD 3 clause\n",
        "\n",
        "def fun2_sigmoid(z) :\n",
        "  return 1/(1 + np.exp(-z))\n",
        "  \n",
        "def fun2_error(w) :\n",
        "  w = w.T #minimizer artifacts, we need to rotate it\n",
        "  \n",
        "  m = X.shape[0]\n",
        "  z = np.dot(X,w)            \n",
        "  h = fun2_sigmoid(z)\n",
        "           \n",
        "  J=(float(-1)/m)*((y.T.dot(np.log(h))) + ((1 - y.T).dot(np.log(1 - h))))  \n",
        "  \n",
        "  return J\n",
        "  \n",
        "def fun2_grad(w) :\n",
        "  w = w.T #for the minimzer\n",
        "  \n",
        "  m = X.shape[0]\n",
        "  z = np.dot(X,w)            \n",
        "  h = fun2_sigmoid(z);\n",
        "\n",
        "  grad = (float(1)/m)*((h-y).T.dot(X))   \n",
        "  \n",
        "  grad = grad.T\n",
        "  \n",
        "  return grad "
      ],
      "execution_count": 0,
      "outputs": []
    },
    {
      "cell_type": "markdown",
      "metadata": {
        "id": "s5bBDmPsgQ0Q",
        "colab_type": "text"
      },
      "source": [
        "### execute optimizer"
      ]
    },
    {
      "cell_type": "code",
      "metadata": {
        "id": "uATeHvbwf41E",
        "colab_type": "code",
        "outputId": "cb124ab6-a496-499f-b671-47f182c2e733",
        "colab": {
          "base_uri": "https://localhost:8080/",
          "height": 156
        }
      },
      "source": [
        "# Author: Kalidas Y <ykalidas at iittp dot ac dot in>\n",
        "# License: BSD 3 clause\n",
        "\n",
        "from scipy.optimize import minimize\n",
        "\n",
        "np.random.seed(42)\n",
        "\n",
        "w_init = np.random.randn(1,2)[0]\n",
        "\n",
        "minza_fun = fun1_error\n",
        "minza_jac = fun1_grad\n",
        "\n",
        "err_val = minza_fun(w_init)\n",
        "\n",
        "grad_val = minza_jac(w_init)\n",
        "\n",
        "print (err_val, w_init.shape, grad_val.shape)\n",
        "\n",
        "print (w_init, grad_val)\n",
        "\n",
        "\n",
        "\n",
        "res = minimize(fun=minza_fun, x0=w_init, jac=minza_jac,method='BFGS',\n",
        "                       options={'maxiter':1000,'disp':True})\n",
        "\n",
        "w_minimized = res.x\n",
        "\n",
        "print (w_minimized)\n"
      ],
      "execution_count": 0,
      "outputs": [
        {
          "output_type": "stream",
          "text": [
            "0.5853390744919174 (2,) (2,)\n",
            "[ 0.49671415 -0.1382643 ] [-0.00105896  0.00175492]\n",
            "Optimization terminated successfully.\n",
            "         Current function value: 0.337960\n",
            "         Iterations: 17\n",
            "         Function evaluations: 21\n",
            "         Gradient evaluations: 21\n",
            "[ 1.48638131 -3.54581371]\n"
          ],
          "name": "stdout"
        }
      ]
    },
    {
      "cell_type": "markdown",
      "metadata": {
        "id": "jyOBx9HdqVDL",
        "colab_type": "text"
      },
      "source": [
        "## Fitting by sklearn function"
      ]
    },
    {
      "cell_type": "code",
      "metadata": {
        "id": "D0c7YqpAqaW_",
        "colab_type": "code",
        "outputId": "bd2e916e-ad28-48c7-9c92-d59e6dda9cca",
        "colab": {
          "base_uri": "https://localhost:8080/",
          "height": 34
        }
      },
      "source": [
        "# Author: Kalidas Y <ykalidas at iittp dot ac dot in>\n",
        "# License: BSD 3 clause\n",
        "\n",
        "clf = LogisticRegression(solver='lbfgs', fit_intercept=False, penalty='none', random_state=42)\n",
        "\n",
        "clf.fit(X,y)\n",
        "\n",
        "print (clf.coef_)"
      ],
      "execution_count": 0,
      "outputs": [
        {
          "output_type": "stream",
          "text": [
            "[[ 1.48672566 -3.54573232]]\n"
          ],
          "name": "stdout"
        }
      ]
    },
    {
      "cell_type": "markdown",
      "metadata": {
        "id": "jjnTAhphZ3RU",
        "colab_type": "text"
      },
      "source": [
        "## Fitting using SGD Classifier and loss function"
      ]
    },
    {
      "cell_type": "code",
      "metadata": {
        "id": "CkzE4mUDZ7YG",
        "colab_type": "code",
        "outputId": "a68ec25b-82f8-4a17-b66c-f8b688a6b818",
        "colab": {
          "base_uri": "https://localhost:8080/",
          "height": 52
        }
      },
      "source": [
        "# Author: Kalidas Y <ykalidas at iittp dot ac dot in>\n",
        "# License: BSD 3 clause\n",
        "\n",
        "from sklearn.linear_model import SGDClassifier\n",
        "\n",
        "\n",
        "clf = SGDClassifier(loss='log',fit_intercept=False, random_state=42, \n",
        "                    learning_rate='constant', eta0=1, penalty='none', alpha=0)\n",
        "\n",
        "clf.fit(X,y)\n",
        "\n",
        "print (clf.coef_)\n",
        "\n",
        "\n",
        "#Change the y coordinate and fit the SGD classifier\n",
        "y1 = 2*y -1 #-1,1 form\n",
        "clf.fit(X,y1)\n",
        "\n",
        "print (clf.coef_)\n"
      ],
      "execution_count": 0,
      "outputs": [
        {
          "output_type": "stream",
          "text": [
            "[[ 1.05898309 -3.83785573]]\n",
            "[[ 1.05898309 -3.83785573]]\n"
          ],
          "name": "stdout"
        }
      ]
    },
    {
      "cell_type": "markdown",
      "metadata": {
        "id": "pP3zO3a1q7sD",
        "colab_type": "text"
      },
      "source": [
        "## Plotting - Logistic Regression"
      ]
    },
    {
      "cell_type": "markdown",
      "metadata": {
        "id": "kL4genSjtShG",
        "colab_type": "text"
      },
      "source": [
        "### Plotting - SGD"
      ]
    },
    {
      "cell_type": "code",
      "metadata": {
        "id": "n27YScHErBgs",
        "colab_type": "code",
        "outputId": "38f461be-e95e-4201-e57c-5b412194a5fa",
        "colab": {
          "base_uri": "https://localhost:8080/",
          "height": 286
        }
      },
      "source": [
        "#REF - https://scikit-learn.org/stable/auto_examples/classification/plot_classifier_comparison.html\n",
        "\n",
        "from sklearn.model_selection import train_test_split\n",
        "\n",
        "X_train, X_test, y_train, y_test = train_test_split(X,y,test_size=0.4,random_state=42)\n",
        "\n",
        "h = 0.02\n",
        "x_min, x_max = X[:, 0].min() - .5, X[:, 0].max() + .5\n",
        "y_min, y_max = X[:, 1].min() - .5, X[:, 1].max() + .5\n",
        "xx, yy = np.meshgrid(np.arange(x_min, x_max, h), np.arange(y_min, y_max, h))\n",
        "\n",
        "Z = clf.predict_proba(np.c_[xx.ravel(), yy.ravel()])[:, 1]\n",
        "\n",
        "Z = Z.reshape(xx.shape)\n",
        "\n",
        "plt.scatter(X_test[:,0],X_test[:,1],c=y_test,cmap=ListedColormap(['#FF0000', '#0000FF']))\n",
        "plt.contourf(xx, yy, Z, cmap=plt.cm.Spectral, alpha=.4)"
      ],
      "execution_count": 0,
      "outputs": [
        {
          "output_type": "execute_result",
          "data": {
            "text/plain": [
              "<matplotlib.contour.QuadContourSet at 0x7f154d2c70f0>"
            ]
          },
          "metadata": {
            "tags": []
          },
          "execution_count": 47
        },
        {
          "output_type": "display_data",
          "data": {
            "image/png": "[encoded data removed]",
            "text/plain": [
              "<Figure size 432x288 with 1 Axes>"
            ]
          },
          "metadata": {
            "tags": []
          }
        }
      ]
    },
    {
      "cell_type": "markdown",
      "metadata": {
        "id": "kiAufi87tXKc",
        "colab_type": "text"
      },
      "source": [
        "### Plotting - Manually optimized"
      ]
    },
    {
      "cell_type": "code",
      "metadata": {
        "id": "2nZ296aUtd2x",
        "colab_type": "code",
        "outputId": "292901fc-e1e2-4307-ce67-9302394a3eeb",
        "colab": {
          "base_uri": "https://localhost:8080/",
          "height": 286
        }
      },
      "source": [
        "\n",
        "# Author: Kalidas Y <ykalidas at iittp dot ac dot in>\n",
        "# License: BSD 3 clause\n",
        "\n",
        "#REF - https://scikit-learn.org/stable/auto_examples/classification/plot_classifier_comparison.html\n",
        "# hacky way\n",
        "clf.coef_ = w_minimized.reshape(1,-1)\n",
        "\n",
        "h = 0.02\n",
        "x_min, x_max = X[:, 0].min() - .5, X[:, 0].max() + .5\n",
        "y_min, y_max = X[:, 1].min() - .5, X[:, 1].max() + .5\n",
        "xx, yy = np.meshgrid(np.arange(x_min, x_max, h), np.arange(y_min, y_max, h))\n",
        "\n",
        "Z = clf.predict_proba(np.c_[xx.ravel(), yy.ravel()])[:, 1]\n",
        "\n",
        "Z = Z.reshape(xx.shape)\n",
        "\n",
        "plt.scatter(X_test[:,0],X_test[:,1],c=y_test,cmap=ListedColormap(['#FF0000', '#0000FF']))\n",
        "plt.contourf(xx, yy, Z, cmap=plt.cm.Spectral, alpha=.4)"
      ],
      "execution_count": 0,
      "outputs": [
        {
          "output_type": "execute_result",
          "data": {
            "text/plain": [
              "<matplotlib.contour.QuadContourSet at 0x7f1547209630>"
            ]
          },
          "metadata": {
            "tags": []
          },
          "execution_count": 48
        },
        {
          "output_type": "display_data",
          "data": {
            "image/png": "[encoded data removed]",
            "text/plain": [
              "<Figure size 432x288 with 1 Axes>"
            ]
          },
          "metadata": {
            "tags": []
          }
        }
      ]
    },
    {
      "cell_type": "markdown",
      "metadata": {
        "id": "w5TOKxIppgXb",
        "colab_type": "text"
      },
      "source": [
        "## Exercises\n",
        "\n",
        "1. Execute the problem for 0,1 formulation\n",
        "1. Change the data set for make_circles and execute the classifier\n",
        "1. Introduce learning rate into the hand composed optimization forms\n",
        "1. Change number of iterations\n",
        "1. Write down by looking at the code, the formulae for error function and the gradients in primary and alternative forms\n",
        "1. Plot the point predictions for Optimization using Primary form, Alternative form; Sklearn's function call and SGD classifier"
      ]
    },
    {
      "cell_type": "markdown",
      "metadata": {
        "id": "jZdBTRnJevbl",
        "colab_type": "text"
      },
      "source": [
        "# Metrics and Visualization"
      ]
    },
    {
      "cell_type": "markdown",
      "metadata": {
        "id": "1fNXv3J-uJoN",
        "colab_type": "text"
      },
      "source": [
        "## Confusion Matrix - Printing"
      ]
    },
    {
      "cell_type": "code",
      "metadata": {
        "id": "Db3JTovmfATq",
        "colab_type": "code",
        "outputId": "e68a168a-a4bc-4973-ec7c-07aac1b6f1e8",
        "colab": {
          "base_uri": "https://localhost:8080/",
          "height": 52
        }
      },
      "source": [
        "# Author: Kalidas Y <ykalidas at iittp dot ac dot in>\n",
        "# License: BSD 3 clause\n",
        "\n",
        "from sklearn.model_selection import train_test_split\n",
        "from sklearn.metrics import confusion_matrix\n",
        "from sklearn.metrics import precision_recall_fscore_support as fun_prfs\n",
        "\n",
        "X_train, X_test, y_train, y_test = train_test_split(X,y,test_size=0.4)\n",
        "\n",
        "clf = LogisticRegression(solver='lbfgs')\n",
        "\n",
        "clf.fit(X_train,y_train)\n",
        "\n",
        "y_pred = clf.predict(X_test)\n",
        "\n",
        "print (confusion_matrix(y_true=y_test,y_pred=y_pred).ravel())\n",
        "\n",
        "\n",
        "print (fun_prfs(y_true=y_test,y_pred=y_pred))"
      ],
      "execution_count": 0,
      "outputs": [
        {
          "output_type": "stream",
          "text": [
            "[15  2  4 19]\n",
            "(array([0.78947368, 0.9047619 ]), array([0.88235294, 0.82608696]), array([0.83333333, 0.86363636]), array([17, 23]))\n"
          ],
          "name": "stdout"
        }
      ]
    },
    {
      "cell_type": "markdown",
      "metadata": {
        "id": "MjhN6OXAfdDU",
        "colab_type": "text"
      },
      "source": [
        "## Confusion matrix - Visualization"
      ]
    },
    {
      "cell_type": "code",
      "metadata": {
        "id": "HsAl5tXMfg3C",
        "colab_type": "code",
        "outputId": "7c14b250-f989-4923-bf15-a7b4e2aecb54",
        "colab": {
          "base_uri": "https://localhost:8080/",
          "height": 366
        }
      },
      "source": [
        "# REF - https://scikit-learn.org/stable/auto_examples/model_selection/plot_confusion_matrix.html#sphx-glr-auto-examples-model-selection-plot-confusion-matrix-py\n",
        "\n",
        "print(__doc__)\n",
        "\n",
        "import numpy as np\n",
        "import matplotlib.pyplot as plt\n",
        "\n",
        "from sklearn.metrics import confusion_matrix\n",
        "from sklearn.utils.multiclass import unique_labels\n",
        "\n",
        "class_names = ['0','1']\n",
        "\n",
        "def plot_confusion_matrix(y_true, y_pred, classes,\n",
        "                          normalize=False,\n",
        "                          title=None,\n",
        "                          cmap=plt.cm.Blues):\n",
        "    \"\"\"\n",
        "    This function prints and plots the confusion matrix.\n",
        "    Normalization can be applied by setting `normalize=True`.\n",
        "    \"\"\"\n",
        "    if not title:\n",
        "        if normalize:\n",
        "            title = 'Normalized confusion matrix'\n",
        "        else:\n",
        "            title = 'Confusion matrix, without normalization'\n",
        "\n",
        "    # Compute confusion matrix\n",
        "    cm = confusion_matrix(y_true, y_pred)\n",
        "    # Only use the labels that appear in the data\n",
        "    classes = [classes[i] for i in unique_labels(y_true, y_pred)]\n",
        "    if normalize:\n",
        "        cm = cm.astype('float') / cm.sum(axis=1)[:, np.newaxis]\n",
        "        print(\"Normalized confusion matrix\")\n",
        "    else:\n",
        "        print('Confusion matrix, without normalization')\n",
        "\n",
        "    print(cm)\n",
        "\n",
        "    fig, ax = plt.subplots()\n",
        "    im = ax.imshow(cm, interpolation='nearest', cmap=cmap)\n",
        "    ax.figure.colorbar(im, ax=ax)\n",
        "    # We want to show all ticks...\n",
        "    ax.set(xticks=np.arange(cm.shape[1]),\n",
        "           yticks=np.arange(cm.shape[0]),\n",
        "           # ... and label them with the respective list entries\n",
        "           xticklabels=classes, yticklabels=classes,\n",
        "           title=title,\n",
        "           ylabel='True label',\n",
        "           xlabel='Predicted label')\n",
        "\n",
        "    # Rotate the tick labels and set their alignment.\n",
        "    plt.setp(ax.get_xticklabels(), rotation=45, ha=\"right\",\n",
        "             rotation_mode=\"anchor\")\n",
        "\n",
        "    # Loop over data dimensions and create text annotations.\n",
        "    fmt = '.2f' if normalize else 'd'\n",
        "    thresh = cm.max() / 2.\n",
        "    for i in range(cm.shape[0]):\n",
        "        for j in range(cm.shape[1]):\n",
        "            ax.text(j, i, format(cm[i, j], fmt),\n",
        "                    ha=\"center\", va=\"center\",\n",
        "                    color=\"white\" if cm[i, j] > thresh else \"black\")\n",
        "    fig.tight_layout()\n",
        "    return ax\n",
        "\n",
        "  \n",
        "np.set_printoptions(precision=2)\n",
        "\n",
        "y_pred = clf.predict(X_test)\n",
        "\n",
        "#print (class_names, unique_labels(y_pred,y_test), class_names[])\n",
        "\n",
        "# Plot non-normalized confusion matrix\n",
        "plot_confusion_matrix(y_test, y_pred, classes=class_names, title='Confusion matrix')\n",
        "\n",
        "plt.show()\n"
      ],
      "execution_count": 0,
      "outputs": [
        {
          "output_type": "stream",
          "text": [
            "Automatically created module for IPython interactive environment\n",
            "Confusion matrix, without normalization\n",
            "[[15  2]\n",
            " [ 4 19]]\n"
          ],
          "name": "stdout"
        },
        {
          "output_type": "display_data",
          "data": {
            "image/png": "[encoded data removed]",
            "text/plain": [
              "<Figure size 432x288 with 2 Axes>"
            ]
          },
          "metadata": {
            "tags": []
          }
        }
      ]
    },
    {
      "cell_type": "markdown",
      "metadata": {
        "id": "C09bmVhvuV1i",
        "colab_type": "text"
      },
      "source": [
        "## PR Curve"
      ]
    },
    {
      "cell_type": "code",
      "metadata": {
        "id": "MoZQWnuquiY5",
        "colab_type": "code",
        "outputId": "805b2f90-26b8-4b71-b312-a7151cff4b31",
        "colab": {
          "base_uri": "https://localhost:8080/",
          "height": 573
        }
      },
      "source": [
        "# Author: Kalidas Y <ykalidas at iittp dot ac dot in>\n",
        "# License: BSD 3 clause\n",
        "\n",
        "from sklearn.metrics import precision_recall_curve\n",
        "\n",
        "y_score = clf.predict_proba(X_test)[:,1]\n",
        "\n",
        "precision, recall, thresholds = precision_recall_curve(y_test, y_score)\n",
        "\n",
        "\n",
        "plt.plot(recall,precision,'*')\n",
        "plt.plot(recall,precision)\n",
        "\n",
        "plt.xlabel('Recall')\n",
        "plt.ylabel('Precision')\n",
        "plt.ylim([0.0, 1.05])\n",
        "plt.xlim([0.0, 1.05])\n",
        "plt.title('PR Curve for the moons data')\n",
        "\n",
        "\n",
        "plt.figure()\n",
        "\n",
        "thr1 = np.append(thresholds,[1.0])\n",
        "\n",
        "plt.plot(thr1,precision,color='red',label='Precision')\n",
        "plt.plot(thr1,recall,color='blue',label='Recall')\n",
        "plt.xlabel('Threshold')\n",
        "plt.ylabel('P or R')\n",
        "plt.title('Threshold vs Metric')\n",
        "plt.legend(loc='best')\n",
        "plt.show()"
      ],
      "execution_count": 0,
      "outputs": [
        {
          "output_type": "display_data",
          "data": {
            "image/png": "[encoded data removed]",
            "text/plain": [
              "<Figure size 432x288 with 1 Axes>"
            ]
          },
          "metadata": {
            "tags": []
          }
        },
        {
          "output_type": "display_data",
          "data": {
            "image/png": "[encoded data removed]",
            "text/plain": [
              "<Figure size 432x288 with 1 Axes>"
            ]
          },
          "metadata": {
            "tags": []
          }
        }
      ]
    },
    {
      "cell_type": "markdown",
      "metadata": {
        "id": "jVtJd8QMvAty",
        "colab_type": "text"
      },
      "source": [
        "## ROC Curve"
      ]
    },
    {
      "cell_type": "code",
      "metadata": {
        "id": "dE7HPfuTvCLZ",
        "colab_type": "code",
        "outputId": "1a0a71e8-54f2-4b13-e5d1-e9205348cbde",
        "colab": {
          "base_uri": "https://localhost:8080/",
          "height": 295
        }
      },
      "source": [
        "# Author: Kalidas Y <ykalidas at iittp dot ac dot in>\n",
        "# License: BSD 3 clause\n",
        "\n",
        "from sklearn.metrics import roc_curve, auc\n",
        "\n",
        "fpr, tpr, thresholds = roc_curve(y_true=y_test,y_score=y_score)\n",
        "\n",
        "auc_score = auc(fpr,tpr)\n",
        "\n",
        "plt.title('ROC Curve for the moons data' + '(AUC=' + str(auc_score) + ')')\n",
        "plt.plot(fpr, tpr,'*')\n",
        "plt.plot(fpr, tpr)\n",
        "\n",
        "plt.xlabel('False Positive Rate')\n",
        "plt.ylabel('True Positive Rate')\n",
        "\n",
        "plt.xlim([0.0,1.05])\n",
        "plt.ylim([0.0,1.05])\n",
        "plt.show()"
      ],
      "execution_count": 0,
      "outputs": [
        {
          "output_type": "display_data",
          "data": {
            "image/png": "[encoded data removed]",
            "text/plain": [
              "<Figure size 432x288 with 1 Axes>"
            ]
          },
          "metadata": {
            "tags": []
          }
        }
      ]
    },
    {
      "cell_type": "markdown",
      "metadata": {
        "id": "dQ3oVm3KvhmC",
        "colab_type": "text"
      },
      "source": [
        "## Exercises\n",
        "\n",
        "1. Write a function to generate all the plots in one go\n",
        "1. Increase noise in the Moons data set and computer confusion matrix, PR and ROC curves\n",
        "1. Generate the plots for Circles data set\n",
        "1. Change the clf.coef_ to Manually computed optimal values and generate the plots"
      ]
    },
    {
      "cell_type": "markdown",
      "metadata": {
        "id": "p38FW-L1EbUS",
        "colab_type": "text"
      },
      "source": [
        "# Loss function effects"
      ]
    },
    {
      "cell_type": "markdown",
      "metadata": {
        "id": "W_aq1VPRAxTF",
        "colab_type": "text"
      },
      "source": [
        "## Visualizing loss functions"
      ]
    },
    {
      "cell_type": "code",
      "metadata": {
        "id": "YfVahEm8Az68",
        "colab_type": "code",
        "outputId": "84a61fcc-39d8-4312-dd47-c7fa06540745",
        "colab": {
          "base_uri": "https://localhost:8080/",
          "height": 283
        }
      },
      "source": [
        "# Author: Kalidas Y <ykalidas at iittp dot ac dot in>\n",
        "# License: BSD 3 clause\n",
        "# REF - https://scikit-learn.org/stable/auto_examples/linear_model/plot_sgd_loss_functions.html\n",
        "\n",
        "import numpy as np\n",
        "\n",
        "xmin, xmax = -4, 4\n",
        "y = np.linspace(xmin, xmax, 100) # predicted value\n",
        "t = 1                            # true value\n",
        "lw = 2\n",
        "# plt.plot([xmin, 0, 0, xmax], [1, 1, 0, 0], color='gold', lw=lw, label=\"Zero-one loss\")\n",
        "\n",
        "#plt.plot(y, np.where(xx < 1, 1 - xx, 0), color='green', lw=lw, label=\"Hinge loss\")\n",
        "plt.plot(y, np.maximum(0,1 - t*y), color='b', lw=lw, label=\"Hinge loss\")\n",
        "\n",
        "# plt.plot(y, -np.minimum(xx, 0), color='yellowgreen', lw=lw, label=\"Perceptron loss\")\n",
        "\n",
        "plt.plot(y, np.log2(1 + np.exp(-t*y)), color='r', lw=lw, label=\"Logistic\")\n",
        "\n",
        "plt.plot(y, (t-y) ** 2, color='g', lw=lw, label=\"Squared\")\n",
        "\n",
        "plt.ylim((0, 7))\n",
        "plt.legend(loc=\"upper right\")\n",
        "plt.xlabel(\"Predicted value (y)\")\n",
        "plt.ylabel(\"Loss value $L(t=1, y)$\")\n",
        "plt.show()\n"
      ],
      "execution_count": 0,
      "outputs": [
        {
          "output_type": "display_data",
          "data": {
            "image/png": "[encoded data removed]",
            "text/plain": [
              "<Figure size 432x288 with 1 Axes>"
            ]
          },
          "metadata": {
            "tags": []
          }
        }
      ]
    },
    {
      "cell_type": "markdown",
      "metadata": {
        "id": "2cZ0FlsEF76a",
        "colab_type": "text"
      },
      "source": [
        "## Visualizing final solutions"
      ]
    },
    {
      "cell_type": "code",
      "metadata": {
        "id": "ELL0MJswEfDM",
        "colab_type": "code",
        "outputId": "3e2ce55e-d32f-493a-f370-d91fb487f9ae",
        "colab": {
          "base_uri": "https://localhost:8080/",
          "height": 568
        }
      },
      "source": [
        "# Author: Kalidas Y <ykalidas at iittp dot ac dot in>\n",
        "# License: BSD 3 clause\n",
        "\n",
        "import numpy as np\n",
        "from sklearn.model_selection import train_test_split\n",
        "from sklearn.metrics import confusion_matrix,accuracy_score\n",
        "from sklearn.linear_model import SGDClassifier \n",
        "from sklearn.datasets import make_moons, make_circles, make_classification\n",
        "import matplotlib.pyplot as plt\n",
        "from matplotlib.colors import ListedColormap\n",
        "\n",
        "##############################\n",
        "\n",
        "def plot_me(clf) :\n",
        "\n",
        "  h = 0.02\n",
        "  x_min, x_max = X[:, 0].min() - .5, X[:, 0].max() + .5\n",
        "  y_min, y_max = X[:, 1].min() - .5, X[:, 1].max() + .5\n",
        "  xx, yy = np.meshgrid(np.arange(x_min, x_max, h), np.arange(y_min, y_max, h))\n",
        "\n",
        "  Z = clf.predict_proba(np.c_[xx.ravel(), yy.ravel()])[:, 1]\n",
        "  \n",
        "  Z = Z.reshape(xx.shape)\n",
        "\n",
        "  plt.scatter(X_test[:,0],X_test[:,1],c=y_test,cmap=ListedColormap(['#FF0000', '#0000FF']))\n",
        "  plt.contourf(xx, yy, Z, cmap=plt.cm.Spectral, alpha=.4)\n",
        "  \n",
        "##############################\n",
        "\n",
        "X,y = make_moons(random_state=42,noise=0.1)\n",
        "#X,y = make_circles(random_state=42)\n",
        "\n",
        "#X,y = make_classification(random_state=42, n_features=2, n_redundant=0, n_informative=2,n_clusters_per_class=1)\n",
        "#rng = np.random.RandomState(2)\n",
        "#X += 2 * rng.uniform(size=X.shape)\n",
        "\n",
        "\n",
        "plt.figure()\n",
        "\n",
        "X_train, X_test, y_train, y_test = train_test_split(X,y,test_size=0.4,random_state=42)\n",
        "\n",
        "loss_funs = ['squared_loss','hinge','log']\n",
        "colours = ['maroon','blue','green']\n",
        "handles = []\n",
        "\n",
        "ax = plt.gca()\n",
        "\n",
        "plt.xlabel('$X_0$')\n",
        "plt.ylabel('$X_1$')\n",
        "plt.title('Loss function differences')\n",
        "\n",
        "for count in range(0,3) :\n",
        "  \n",
        "  clf = SGDClassifier(loss=loss_funs[count],fit_intercept=False, random_state=42, \n",
        "                    learning_rate='constant', eta0=1, penalty='none', alpha=0)\n",
        "\n",
        "  clf.fit(X_train,y_train)\n",
        "  \n",
        "  y_pred = clf.predict(X_test)\n",
        "  \n",
        "  acc = accuracy_score(y_true=y_test,y_pred=y_pred)\n",
        "  \n",
        "  ix = round(clf.coef_[0][0],1)\n",
        "  iy = round(clf.coef_[0][1],1)\n",
        "  \n",
        "  a = plt.plot(ix,iy,'*')\n",
        "  \n",
        "  text = '('+str(ix)+','+str(iy)+')' +'=' + str(round(acc,2))\n",
        "  \n",
        "  ax.annotate(text,xy=(ix,iy))\n",
        "  \n",
        "  handles.append(a[0])\n",
        "  \n",
        "  if loss_funs[count] == 'log' :\n",
        "    plt.figure()\n",
        "    plot_me(clf)\n",
        "  \n",
        "  \n",
        "ax.legend(handles, loss_funs,loc='upper right')\n",
        "  \n"
      ],
      "execution_count": 0,
      "outputs": [
        {
          "output_type": "execute_result",
          "data": {
            "text/plain": [
              "<matplotlib.legend.Legend at 0x7f1545896240>"
            ]
          },
          "metadata": {
            "tags": []
          },
          "execution_count": 54
        },
        {
          "output_type": "display_data",
          "data": {
            "image/png": "[encoded data removed]",
            "text/plain": [
              "<Figure size 432x288 with 1 Axes>"
            ]
          },
          "metadata": {
            "tags": []
          }
        },
        {
          "output_type": "display_data",
          "data": {
            "image/png": "[encoded data removed]",
            "text/plain": [
              "<Figure size 432x288 with 1 Axes>"
            ]
          },
          "metadata": {
            "tags": []
          }
        }
      ]
    },
    {
      "cell_type": "markdown",
      "metadata": {
        "id": "XG_9aXqnACq1",
        "colab_type": "text"
      },
      "source": [
        "## Exercises\n",
        "\n",
        "1. Change random_state value and execute\n",
        "1. Change data set and execute\n",
        "1. Change the position of the legend as appropriate"
      ]
    },
    {
      "cell_type": "markdown",
      "metadata": {
        "id": "mPIZpy_OhFSB",
        "colab_type": "text"
      },
      "source": [
        "# Logistic Regression on Image Data"
      ]
    },
    {
      "cell_type": "markdown",
      "metadata": {
        "id": "KqUpxIN9t3_T",
        "colab_type": "text"
      },
      "source": [
        "## Fitting Logistic Regression"
      ]
    },
    {
      "cell_type": "code",
      "metadata": {
        "id": "vGFd-2wuhH8g",
        "colab_type": "code",
        "outputId": "63b38cfa-0abc-4ead-8276-ba4490e6a517",
        "colab": {
          "base_uri": "https://localhost:8080/",
          "height": 952
        }
      },
      "source": [
        "# REF - https://scikit-learn.org/stable/auto_examples/classification/plot_digits_classification.html\n",
        "\n",
        "print(__doc__)\n",
        "\n",
        "# Author: Gael Varoquaux <gael dot varoquaux at normalesup dot org>\n",
        "# License: BSD 3 clause\n",
        "\n",
        "# Standard scientific Python imports\n",
        "import matplotlib.pyplot as plt\n",
        "from sklearn.linear_model import LogisticRegression\n",
        "\n",
        "# Import datasets, classifiers and performance metrics\n",
        "from sklearn import datasets, svm, metrics\n",
        "\n",
        "# The digits dataset\n",
        "digits = datasets.load_digits()\n",
        "\n",
        "# The data that we are interested in is made of 8x8 images of digits, let's\n",
        "# have a look at the first 4 images, stored in the `images` attribute of the\n",
        "# dataset.  If we were working from image files, we could load them using\n",
        "# matplotlib.pyplot.imread.  Note that each image must have the same size. For these\n",
        "# images, we know which digit they represent: it is given in the 'target' of\n",
        "# the dataset.\n",
        "images_and_labels = list(zip(digits.images, digits.target))\n",
        "for index, (image, label) in enumerate(images_and_labels[:4]):\n",
        "    plt.subplot(2, 4, index + 1)\n",
        "    plt.axis('off')\n",
        "    plt.imshow(image, cmap=plt.cm.gray_r, interpolation='nearest')\n",
        "    plt.title('Training: %i' % label)\n",
        "\n",
        "# To apply a classifier on this data, we need to flatten the image, to\n",
        "# turn the data in a (samples, feature) matrix:\n",
        "n_samples = len(digits.images)\n",
        "data = digits.images.reshape((n_samples, -1))\n",
        "\n",
        "# Create a classifier: a support vector classifier\n",
        "#classifier = svm.SVC(gamma=0.001)\n",
        "classifier = LogisticRegression()\n",
        "\n",
        "# We learn the digits on the first half of the digits\n",
        "classifier.fit(data[:n_samples // 2], digits.target[:n_samples // 2])\n",
        "\n",
        "# Now predict the value of the digit on the second half:\n",
        "expected = digits.target[n_samples // 2:]\n",
        "predicted = classifier.predict(data[n_samples // 2:])\n",
        "\n",
        "print(\"Classification report for classifier %s:\\n%s\\n\"\n",
        "      % (classifier, metrics.classification_report(expected, predicted)))\n",
        "print(\"Confusion matrix:\\n%s\" % metrics.confusion_matrix(expected, predicted))\n",
        "\n",
        "images_and_predictions = list(zip(digits.images[n_samples // 2:], predicted))\n",
        "for index, (image, prediction) in enumerate(images_and_predictions[:4]):\n",
        "    plt.subplot(2, 4, index + 5)\n",
        "    plt.axis('off')\n",
        "    plt.imshow(image, cmap=plt.cm.gray_r, interpolation='nearest')\n",
        "    plt.title('Prediction: %i' % prediction)\n",
        "\n",
        "plt.show()\n",
        "\n"
      ],
      "execution_count": 0,
      "outputs": [
        {
          "output_type": "stream",
          "text": [
            "Automatically created module for IPython interactive environment\n"
          ],
          "name": "stdout"
        },
        {
          "output_type": "stream",
          "text": [
            "/usr/local/lib/python3.6/dist-packages/sklearn/linear_model/logistic.py:432: FutureWarning: Default solver will be changed to 'lbfgs' in 0.22. Specify a solver to silence this warning.\n",
            "  FutureWarning)\n",
            "/usr/local/lib/python3.6/dist-packages/sklearn/linear_model/logistic.py:469: FutureWarning: Default multi_class will be changed to 'auto' in 0.22. Specify the multi_class option to silence this warning.\n",
            "  \"this warning.\", FutureWarning)\n"
          ],
          "name": "stderr"
        },
        {
          "output_type": "stream",
          "text": [
            "Classification report for classifier LogisticRegression(C=1.0, class_weight=None, dual=False, fit_intercept=True,\n",
            "                   intercept_scaling=1, l1_ratio=None, max_iter=100,\n",
            "                   multi_class='warn', n_jobs=None, penalty='l2',\n",
            "                   random_state=None, solver='warn', tol=0.0001, verbose=0,\n",
            "                   warm_start=False):\n",
            "              precision    recall  f1-score   support\n",
            "\n",
            "           0       0.94      0.97      0.96        88\n",
            "           1       0.86      0.89      0.88        91\n",
            "           2       0.98      0.98      0.98        86\n",
            "           3       0.99      0.82      0.90        91\n",
            "           4       0.99      0.93      0.96        92\n",
            "           5       0.83      0.90      0.86        91\n",
            "           6       0.94      0.99      0.96        91\n",
            "           7       0.98      0.89      0.93        89\n",
            "           8       0.89      0.88      0.88        88\n",
            "           9       0.83      0.92      0.87        92\n",
            "\n",
            "    accuracy                           0.92       899\n",
            "   macro avg       0.92      0.92      0.92       899\n",
            "weighted avg       0.92      0.92      0.92       899\n",
            "\n",
            "\n",
            "Confusion matrix:\n",
            "[[85  0  0  0  1  1  1  0  0  0]\n",
            " [ 0 81  0  1  0  0  1  0  2  6]\n",
            " [ 2  0 84  0  0  0  0  0  0  0]\n",
            " [ 0  1  0 75  0  6  0  2  5  2]\n",
            " [ 1  2  0  0 86  0  1  0  0  2]\n",
            " [ 0  3  0  0  0 82  2  0  0  4]\n",
            " [ 0  0  1  0  0  0 90  0  0  0]\n",
            " [ 0  1  0  0  0  5  0 79  1  3]\n",
            " [ 0  5  1  0  0  3  1  0 77  1]\n",
            " [ 2  1  0  0  0  2  0  0  2 85]]\n"
          ],
          "name": "stdout"
        },
        {
          "output_type": "display_data",
          "data": {
            "image/png": "[encoded data removed]",
            "text/plain": [
              "<Figure size 432x288 with 8 Axes>"
            ]
          },
          "metadata": {
            "tags": []
          }
        }
      ]
    },
    {
      "cell_type": "markdown",
      "metadata": {
        "id": "-CuCV45Lt9HZ",
        "colab_type": "text"
      },
      "source": [
        "# PR Curves for Multi-class"
      ]
    },
    {
      "cell_type": "markdown",
      "metadata": {
        "id": "QMj6lC3B_Ab7",
        "colab_type": "text"
      },
      "source": [
        "## Reference material\n",
        "\n",
        "1. REF - https://scikit-learn.org/stable/auto_examples/model_selection/plot_precision_recall.html\n",
        "\n",
        "1. REF - https://scikit-learn.org/stable/modules/generated/sklearn.metrics.average_precision_score.html#sklearn.metrics.average_precision_score\n",
        "\n",
        "1. REF - https://scikit-learn.org/stable/modules/model_evaluation.html#precision-recall-f-measure-metrics\n",
        "\n",
        "1. REF - https://datascience.stackexchange.com/questions/15989/micro-average-vs-macro-average-performance-in-a-multiclass-classification-settin\n"
      ]
    },
    {
      "cell_type": "markdown",
      "metadata": {
        "id": "XAUgY2672-A1",
        "colab_type": "text"
      },
      "source": [
        "## set up"
      ]
    },
    {
      "cell_type": "markdown",
      "metadata": {
        "id": "nx_Easj2_VMQ",
        "colab_type": "text"
      },
      "source": [
        "### Load data"
      ]
    },
    {
      "cell_type": "code",
      "metadata": {
        "id": "gWJ25CWe1nf8",
        "colab_type": "code",
        "outputId": "c0e498ed-4665-4954-ce1f-d0840d6cf594",
        "colab": {
          "base_uri": "https://localhost:8080/",
          "height": 34
        }
      },
      "source": [
        "# Load digits data\n",
        "\n",
        "X = digits.data\n",
        "y = digits.target\n",
        "\n",
        "X_train,X_test,y_train,y_test = train_test_split(X,y,test_size=0.4)\n",
        "\n",
        "print (X_test.shape, y_test.shape)"
      ],
      "execution_count": 0,
      "outputs": [
        {
          "output_type": "stream",
          "text": [
            "(719, 64) (719,)\n"
          ],
          "name": "stdout"
        }
      ]
    },
    {
      "cell_type": "markdown",
      "metadata": {
        "id": "Tu11Kioq_Xap",
        "colab_type": "text"
      },
      "source": [
        "### Binarize (one **hot**)"
      ]
    },
    {
      "cell_type": "code",
      "metadata": {
        "id": "zYqNYFsg7p2K",
        "colab_type": "code",
        "outputId": "1119bfad-7a4c-448a-a1ac-035273327be4",
        "colab": {
          "base_uri": "https://localhost:8080/",
          "height": 34
        }
      },
      "source": [
        "from sklearn.preprocessing import label_binarize\n",
        "\n",
        "my_classes = np.unique(y)\n",
        "\n",
        "y1_test = label_binarize(y_test,classes=my_classes)\n",
        "\n",
        "print (y.shape, y1_test.shape)"
      ],
      "execution_count": 0,
      "outputs": [
        {
          "output_type": "stream",
          "text": [
            "(1797,) (719, 10)\n"
          ],
          "name": "stdout"
        }
      ]
    },
    {
      "cell_type": "markdown",
      "metadata": {
        "id": "ORyB-y5u_bmU",
        "colab_type": "text"
      },
      "source": [
        "## Fit classifier"
      ]
    },
    {
      "cell_type": "code",
      "metadata": {
        "id": "XDmPZhYx5zVx",
        "colab_type": "code",
        "outputId": "8d8a2b86-2b7b-4200-d854-2414f93209b0",
        "colab": {
          "base_uri": "https://localhost:8080/",
          "height": 124
        }
      },
      "source": [
        "clf = LogisticRegression()\n",
        "\n",
        "clf.fit(X_train,y_train)\n",
        "\n",
        "y_pred = clf.predict(X_test)\n",
        "y_probas = clf.predict_proba(X_test)\n",
        "\n",
        "print (y_pred.shape, y_probas.shape)"
      ],
      "execution_count": 0,
      "outputs": [
        {
          "output_type": "stream",
          "text": [
            "/usr/local/lib/python3.6/dist-packages/sklearn/linear_model/logistic.py:432: FutureWarning: Default solver will be changed to 'lbfgs' in 0.22. Specify a solver to silence this warning.\n",
            "  FutureWarning)\n",
            "/usr/local/lib/python3.6/dist-packages/sklearn/linear_model/logistic.py:469: FutureWarning: Default multi_class will be changed to 'auto' in 0.22. Specify the multi_class option to silence this warning.\n",
            "  \"this warning.\", FutureWarning)\n"
          ],
          "name": "stderr"
        },
        {
          "output_type": "stream",
          "text": [
            "(719,) (719, 10)\n"
          ],
          "name": "stdout"
        }
      ]
    },
    {
      "cell_type": "markdown",
      "metadata": {
        "id": "-FJMwWTy_fT8",
        "colab_type": "text"
      },
      "source": [
        "## Compute PR curves per class"
      ]
    },
    {
      "cell_type": "code",
      "metadata": {
        "id": "Gt70KOaf8Inp",
        "colab_type": "code",
        "outputId": "f0d68fe1-53e1-4c66-b53f-2cdf9e537e65",
        "colab": {
          "base_uri": "https://localhost:8080/",
          "height": 295
        }
      },
      "source": [
        "from sklearn.metrics import precision_recall_curve\n",
        "\n",
        "plt.figure()\n",
        "\n",
        "for mycls in my_classes :\n",
        "  p,r,t = precision_recall_curve(y_true=y1_test[:,mycls],probas_pred=y_probas[:,mycls])\n",
        "  plt.plot(r,p,label=str(mycls))\n",
        "  \n",
        "plt.legend(loc='best')\n",
        "plt.xlabel('Recall')\n",
        "plt.ylabel('Precision')\n",
        "plt.title('Per class PR curves')\n",
        "plt.show()\n"
      ],
      "execution_count": 0,
      "outputs": [
        {
          "output_type": "display_data",
          "data": {
            "image/png": "[encoded data removed]",
            "text/plain": [
              "<Figure size 432x288 with 1 Axes>"
            ]
          },
          "metadata": {
            "tags": []
          }
        }
      ]
    },
    {
      "cell_type": "markdown",
      "metadata": {
        "id": "LaSMiMMG_8wW",
        "colab_type": "text"
      },
      "source": [
        "## Compute average precision scores"
      ]
    },
    {
      "cell_type": "code",
      "metadata": {
        "id": "Db2cg5r39h78",
        "colab_type": "code",
        "outputId": "da42c0be-3691-4b1b-945c-5ba179692686",
        "colab": {
          "base_uri": "https://localhost:8080/",
          "height": 69
        }
      },
      "source": [
        "from sklearn.metrics import average_precision_score\n",
        "\n",
        "for avg_type in ['macro','micro','weighted'] :\n",
        "  avg_prec = average_precision_score(y_true=y1_test,y_score=y_probas,average=avg_type)\n",
        "  print (avg_type,avg_prec)\n",
        "  "
      ],
      "execution_count": 0,
      "outputs": [
        {
          "output_type": "stream",
          "text": [
            "macro 0.9831400693526229\n",
            "micro 0.9799266232194574\n",
            "weighted 0.9834252540834794\n"
          ],
          "name": "stdout"
        }
      ]
    }
  ]
}